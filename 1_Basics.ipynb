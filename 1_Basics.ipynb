{
 "cells": [
  {
   "cell_type": "markdown",
   "id": "3dda592f",
   "metadata": {},
   "source": [
    "# Let's go!\n",
    "\n",
    "Install Pydantic AI:\n",
    "\n",
    "`pip install pydantic-ai`\n",
    "\n",
    "With Pydantic AI we can choose between [multiple LLM providers and models](https://ai.pydantic.dev/models/)."
   ]
  },
  {
   "cell_type": "code",
   "execution_count": null,
   "id": "234bd47a",
   "metadata": {},
   "outputs": [],
   "source": [
    "# Colab stuff\n",
    "\n",
    "import sys, pathlib\n",
    "\n",
    "if ('google.colab' in sys.modules) and (not pathlib.Path('repo').exists()):\n",
    "    !git clone https://github.com/marcelpauly/scicar-agents.git\n",
    "    %cd scicar-agents\n",
    "    %pip install -q -r requirements.txt"
   ]
  },
  {
   "cell_type": "code",
   "execution_count": null,
   "id": "7090278f",
   "metadata": {},
   "outputs": [],
   "source": [
    "import os\n",
    "from typing import Literal\n",
    "\n",
    "import pandas as pd\n",
    "from pydantic import BaseModel, Field, HttpUrl\n",
    "\n",
    "from pydantic_ai import Agent, NativeOutput, PromptedOutput, Tool, WebSearchTool\n",
    "from pydantic_ai.models.openai import OpenAIResponsesModel\n",
    "from pydantic_ai.models.anthropic import AnthropicModel\n",
    "from pydantic_ai.models.google import GoogleModel\n",
    "\n",
    "# Allow async code to run inside Jupyter Notebook's existing event loop\n",
    "import nest_asyncio\n",
    "nest_asyncio.apply()"
   ]
  },
  {
   "cell_type": "markdown",
   "id": "4ee617bd",
   "metadata": {},
   "source": [
    "**Start cheap, then scale up if needed**\n",
    "\n",
    "Different providers, different models: start with the cheapest model that meets your formal requirements. If, despite a well-designed prompt, the output quality is unsatisfactory, then move up to more capable, more expensive models to see whether they deliver better results."
   ]
  },
  {
   "cell_type": "code",
   "execution_count": null,
   "id": "d5a7920d",
   "metadata": {},
   "outputs": [],
   "source": [
    "models = {}\n",
    "\n",
    "# OpenAI\n",
    "# Generate API key: https://platform.openai.com/settings/organization/api-keys\n",
    "# Models: https://platform.openai.com/docs/models\n",
    "# Pricing: https://platform.openai.com/docs/pricing\n",
    "os.environ['OPENAI_API_KEY'] = 'YOUR_OPENAI_API_KEY'\n",
    "models['gpt'] = OpenAIResponsesModel('gpt-5-nano-2025-08-07')\n",
    "\n",
    "# Anthropic\n",
    "# Generate API key: https://console.anthropic.com/settings/keys\n",
    "# Models: https://docs.anthropic.com/en/docs/about-claude/models/overview\n",
    "# Pricing: https://docs.anthropic.com/en/docs/about-claude/pricing\n",
    "os.environ['ANTHROPIC_API_KEY'] = 'YOUR_ANTHROPIC_API_KEY'\n",
    "models['claude'] = AnthropicModel('claude-3-5-haiku-20241022')\n",
    "\n",
    "# Google\n",
    "# Generate API key: https://aistudio.google.com/apikey\n",
    "# Models: https://ai.google.dev/gemini-api/docs/models\n",
    "# Pricing: https://ai.google.dev/gemini-api/docs/pricing\n",
    "os.environ['GOOGLE_API_KEY'] = 'YOUR_GOOGLE_API_KEY'\n",
    "models['gemini'] = GoogleModel('gemini-2.5-flash-lite')"
   ]
  },
  {
   "cell_type": "code",
   "execution_count": null,
   "id": "5ad7da51",
   "metadata": {},
   "outputs": [],
   "source": [
    "# Choose a model\n",
    "model = models['gpt']"
   ]
  },
  {
   "cell_type": "markdown",
   "id": "0ca1f15d",
   "metadata": {},
   "source": [
    "## Start with a simple prompt"
   ]
  },
  {
   "cell_type": "code",
   "execution_count": null,
   "id": "edac2a79",
   "metadata": {},
   "outputs": [],
   "source": [
    "prompt = 'List the most important professional conferences in Europe strongly related to data journalism, computer-assisted reporting and AI in journalism.'\n",
    "\n",
    "agent = Agent(model)\n",
    "result = agent.run_sync(prompt)\n",
    "print(result.output)"
   ]
  },
  {
   "cell_type": "markdown",
   "id": "ae091125",
   "metadata": {},
   "source": [
    "## Get structured answers\n",
    "\n",
    "### Let's try it using a system prompt"
   ]
  },
  {
   "cell_type": "code",
   "execution_count": null,
   "id": "24639cc8",
   "metadata": {},
   "outputs": [],
   "source": [
    "system_prompt = 'Respond with a JSON array of objects. Choose concise, relevant fields and no extra prose.'\n",
    "prompt = 'List the most important professional conferences in Europe strongly related to data journalism, computer-assisted reporting and AI in journalism.'\n",
    "\n",
    "agent = Agent(\n",
    "    model = model,\n",
    "    system_prompt = system_prompt,        # add system prompt\n",
    "    model_settings = {'temperature': 0}   # more focused, less creative responses\n",
    ")\n",
    "\n",
    "result = agent.run_sync(prompt)\n",
    "print(result.output)"
   ]
  },
  {
   "cell_type": "markdown",
   "id": "ee51b9a1",
   "metadata": {},
   "source": [
    "### Let's use a Pydantic model\n",
    "\n",
    "Different LLM providers have different approaches to deliver structured responses. (JSON Mode with Anthropic, Structured Output with OpenAI.)\n",
    "\n",
    "Pydantic AI uses Pydantic Models and translate them into the instructions the choosen model uses."
   ]
  },
  {
   "cell_type": "code",
   "execution_count": null,
   "id": "9219af3e",
   "metadata": {},
   "outputs": [],
   "source": [
    "system_prompt = 'You are an expert on professional conferences. Return only the structured output requested.'\n",
    "prompt = 'List the most important professional conferences in Europe strongly related to data journalism, computer-assisted reporting and AI in journalism.'\n",
    "\n",
    "class Conferences(BaseModel):\n",
    "    # A class in Python defines a 'blueprint' for data.\n",
    "    # In this case we use a Pydantic model to specify\n",
    "    # which fields each conference must have.\n",
    "    name: str\n",
    "    organizer: str\n",
    "    location: str | Literal['online only', 'various'] = Field(description = 'City, Country where the conference is held, or \"online only\" or \"various\".')\n",
    "    topics: list[str]\n",
    "    frequency: Literal['monthly', 'semiannual', 'annual', 'biennial', 'one-time', 'irregular', 'other', 'unknown']\n",
    "    website: HttpUrl | None\n",
    "\n",
    "output_schema = list[Conferences]\n",
    "\n",
    "agent = Agent(\n",
    "    model = model,\n",
    "    system_prompt = system_prompt,\n",
    "    output_type = output_schema,\n",
    "    model_settings = {'temperature': 0},\n",
    "    retries = 2,\n",
    "    output_retries = 2\n",
    ")\n",
    "\n",
    "result = agent.run_sync(prompt)\n",
    "result.output"
   ]
  },
  {
   "cell_type": "code",
   "execution_count": null,
   "id": "567d3565",
   "metadata": {},
   "outputs": [],
   "source": [
    "result.output[0].model_dump()"
   ]
  },
  {
   "cell_type": "code",
   "execution_count": null,
   "id": "fca38629",
   "metadata": {},
   "outputs": [],
   "source": [
    "# Convert Pydantic objects to a list of dictionaries\n",
    "def convert_pydantic_objects_to_list_of_dicts(conferences: list[Conferences]) -> list[dict]:\n",
    "    return [conference.model_dump() for conference in conferences]\n",
    "\n",
    "conferences = convert_pydantic_objects_to_list_of_dicts(result.output)\n",
    "conferences"
   ]
  },
  {
   "cell_type": "code",
   "execution_count": null,
   "id": "a4378d03",
   "metadata": {},
   "outputs": [],
   "source": [
    "# Make it a DataFrame\n",
    "\n",
    "df = pd.DataFrame(conferences)\n",
    "df"
   ]
  },
  {
   "cell_type": "markdown",
   "id": "48ef5177",
   "metadata": {},
   "source": [
    "What about the quality?"
   ]
  },
  {
   "cell_type": "code",
   "execution_count": null,
   "id": "2b4ea315",
   "metadata": {},
   "outputs": [],
   "source": [
    "\n",
    "prompt = 'When will the 2025 federal elections be held in Germany?'\n",
    "\n",
    "agent = Agent(\n",
    "    model = model\n",
    ")\n",
    "\n",
    "result = agent.run_sync(prompt)\n",
    "print(result.output)"
   ]
  },
  {
   "cell_type": "code",
   "execution_count": null,
   "id": "f29fd952",
   "metadata": {},
   "outputs": [],
   "source": [
    "prompt = 'When will the 2025 federal elections be held in Germany?'\n",
    "\n",
    "agent = Agent(\n",
    "    model = model,\n",
    "    builtin_tools = [WebSearchTool()]   # Enable web search\n",
    ")\n",
    "\n",
    "result = agent.run_sync(prompt)\n",
    "print(result.output)"
   ]
  },
  {
   "cell_type": "markdown",
   "id": "d8b8141a",
   "metadata": {},
   "source": [
    "## Improving and enriching the output by building an agent\n",
    "\n",
    "### Using the LLM's builtin [web search tool](https://ai.pydantic.dev/builtin-tools/#web-search-tool)\n",
    "\n",
    "(Alternative: [DuckDuckGo Search Tool](https://ai.pydantic.dev/common-tools/#duckduckgo-search-tool) and [Tavily Search Tool](https://ai.pydantic.dev/common-tools/#tavily-search-tool) from Pydantic AI's already integrated \"common tools\")"
   ]
  },
  {
   "cell_type": "code",
   "execution_count": null,
   "id": "0ebb9c27",
   "metadata": {},
   "outputs": [],
   "source": [
    "system_prompt = 'You are an expert on professional conferences. Return only the structured output requested. You use the tools provided to you: Use the web search (`WebSearchTool`) to find conferences on the internet.'\n",
    "prompt = 'List the most important professional conferences in Europe strongly related to data journalism, computer-assisted reporting and AI in journalism.'\n",
    "\n",
    "class Conferences(BaseModel):\n",
    "    name: str\n",
    "    organizer: str\n",
    "    location: str | Literal['online only', 'various'] = Field(description = 'City, Country where the conference is held, or \"online only\" or \"various\".')\n",
    "    topics: list[str]\n",
    "    frequency: Literal['monthly', 'semiannual', 'annual', 'biennial', 'one-time', 'irregular', 'other', 'unknown']\n",
    "    website: HttpUrl | None\n",
    "\n",
    "output_schema = list[Conferences]\n",
    "\n",
    "def get_output_type(model, output_schema):\n",
    "    \"\"\"\n",
    "    Use NativeOutput for OpenAI models, PromptedOutput for others, to ensure\n",
    "    each model is able to both use tools and provide structured output.\n",
    "    \"\"\"\n",
    "    if isinstance(model, OpenAIResponsesModel):\n",
    "        return NativeOutput(output_schema)\n",
    "    return PromptedOutput(output_schema)\n",
    "\n",
    "output_type = get_output_type(model, output_schema)\n",
    "\n",
    "agent = Agent(\n",
    "    model = model,\n",
    "    system_prompt = system_prompt,\n",
    "    output_type = output_type,\n",
    "    builtin_tools = [WebSearchTool()],   # for web search capabilities\n",
    "    model_settings = {'temperature': 0},\n",
    "    retries = 3,\n",
    "    output_retries = 3\n",
    ")\n",
    "result = agent.run_sync(prompt)\n",
    "convert_pydantic_objects_to_list_of_dicts(result.output)"
   ]
  },
  {
   "cell_type": "markdown",
   "id": "36d0b883",
   "metadata": {},
   "source": [
    "### Building our own tool\n",
    "\n",
    "**Warning:** Doesn't work with Google Gemeni when you demand structured output at the same time."
   ]
  },
  {
   "cell_type": "code",
   "execution_count": null,
   "id": "c76763ff",
   "metadata": {},
   "outputs": [],
   "source": [
    "schengen_countries = [\n",
    "    'Austria', 'Belgium', 'Bulgaria', 'Croatia', 'Czech Republic', 'Czechia', 'Denmark',\n",
    "    'Estonia', 'Finland', 'France', 'Germany', 'Greece', 'Hungary', 'Iceland', 'Italy',\n",
    "    'Latvia', 'Liechtenstein', 'Lithuania', 'Luxembourg', 'Malta', 'Netherlands', 'Norway',\n",
    "    'Poland', 'Portugal', 'Romania', 'Slovakia', 'Slovenia', 'Spain', 'Sweden', 'Switzerland'\n",
    "]\n",
    "\n",
    "def is_schengen_country(country: str) -> bool:\n",
    "    return country in schengen_countries"
   ]
  },
  {
   "cell_type": "code",
   "execution_count": null,
   "id": "c14c1044",
   "metadata": {},
   "outputs": [],
   "source": [
    "# Quick sanity check\n",
    "\n",
    "is_schengen_country('Greece')"
   ]
  },
  {
   "cell_type": "code",
   "execution_count": null,
   "id": "9959f883",
   "metadata": {},
   "outputs": [],
   "source": [
    "system_prompt = 'You are an expert on professional conferences. Return only the structured output requested. You use the tools provided to you: Use the web search (`WebSearchTool`) to find conferences on the internet, and `is_schengen_country` to look up whether a country is in the Schengen area.'\n",
    "prompt = 'List the most important professional conferences in Germany strongly related to data journalism, computer-assisted reporting and AI in journalism.'\n",
    "\n",
    "class Conferences(BaseModel):\n",
    "    name: str\n",
    "    organizer: str\n",
    "    location: str | Literal['online only', 'various'] = Field(description = 'City, Country where the conference is held, or \"online only\" or \"various\".')\n",
    "    is_schengen_country: bool = Field(description = 'Whether the location (country) is in the Schengen area.')   # new field\n",
    "    topics: list[str]\n",
    "    frequency: Literal['monthly', 'semiannual', 'annual', 'biennial', 'one-time', 'irregular', 'other', 'unknown']\n",
    "    website: HttpUrl | None\n",
    "\n",
    "def get_output_type(model, output_schema):\n",
    "    \"\"\"\n",
    "    Use NativeOutput for OpenAI models, PromptedOutput for others, to ensure\n",
    "    each model is able to both use tools and provide structured output.\n",
    "    \"\"\"\n",
    "    if isinstance(model, OpenAIResponsesModel):\n",
    "        return NativeOutput(output_schema)\n",
    "    return PromptedOutput(output_schema)\n",
    "\n",
    "output_schema = list[Conferences]\n",
    "output_type = get_output_type(model, output_schema)\n",
    "\n",
    "agent = Agent(\n",
    "    model = model,\n",
    "    system_prompt = system_prompt,\n",
    "    output_type = output_type,\n",
    "    builtin_tools = [WebSearchTool()],\n",
    "    tools = [Tool(\n",
    "        is_schengen_country,\n",
    "        description = 'Return whether a given country is in the Schengen area.'\n",
    "    )],\n",
    "    model_settings = {'temperature': 0},\n",
    "    retries = 3,\n",
    "    output_retries = 3\n",
    ")\n",
    "result = agent.run_sync(prompt)\n",
    "convert_pydantic_objects_to_list_of_dicts(result.output)"
   ]
  },
  {
   "cell_type": "markdown",
   "id": "b38156e1",
   "metadata": {},
   "source": [
    "**Let’s inspect what happened under the hood**\n",
    "\n",
    "(internal tools like web search may not be visible here)"
   ]
  },
  {
   "cell_type": "code",
   "execution_count": null,
   "id": "b590016b",
   "metadata": {},
   "outputs": [],
   "source": [
    "for msg in result.all_messages():\n",
    "    for part in msg.parts:\n",
    "        print(part)\n",
    "        print()"
   ]
  }
 ],
 "metadata": {
  "kernelspec": {
   "display_name": "3.13.3",
   "language": "python",
   "name": "python3"
  },
  "language_info": {
   "codemirror_mode": {
    "name": "ipython",
    "version": 3
   },
   "file_extension": ".py",
   "mimetype": "text/x-python",
   "name": "python",
   "nbconvert_exporter": "python",
   "pygments_lexer": "ipython3",
   "version": "3.13.3"
  }
 },
 "nbformat": 4,
 "nbformat_minor": 5
}
